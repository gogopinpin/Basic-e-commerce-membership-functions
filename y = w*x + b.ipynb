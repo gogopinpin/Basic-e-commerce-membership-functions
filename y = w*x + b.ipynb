{
  "nbformat": 4,
  "nbformat_minor": 0,
  "metadata": {
    "colab": {
      "provenance": [],
      "authorship_tag": "ABX9TyO/I7HCeWZqI1woFQ84DAAI",
      "include_colab_link": true
    },
    "kernelspec": {
      "name": "python3",
      "display_name": "Python 3"
    },
    "language_info": {
      "name": "python"
    },
    "widgets": {
      "application/vnd.jupyter.widget-state+json": {
        "b1c5a5c3c0994d779b880744f757ea03": {
          "model_module": "@jupyter-widgets/controls",
          "model_name": "VBoxModel",
          "model_module_version": "1.5.0",
          "state": {
            "_dom_classes": [
              "widget-interact"
            ],
            "_model_module": "@jupyter-widgets/controls",
            "_model_module_version": "1.5.0",
            "_model_name": "VBoxModel",
            "_view_count": null,
            "_view_module": "@jupyter-widgets/controls",
            "_view_module_version": "1.5.0",
            "_view_name": "VBoxView",
            "box_style": "",
            "children": [
              "IPY_MODEL_4e87cf911bca4fad8ada27a189e71044",
              "IPY_MODEL_41c4c7f5adc345bbaf2c3e5cefe540b0",
              "IPY_MODEL_bb553b1fef4445f9b76380803bd0b801"
            ],
            "layout": "IPY_MODEL_2106949281414d84841f38f551b5b02e"
          }
        },
        "4e87cf911bca4fad8ada27a189e71044": {
          "model_module": "@jupyter-widgets/controls",
          "model_name": "IntSliderModel",
          "model_module_version": "1.5.0",
          "state": {
            "_dom_classes": [],
            "_model_module": "@jupyter-widgets/controls",
            "_model_module_version": "1.5.0",
            "_model_name": "IntSliderModel",
            "_view_count": null,
            "_view_module": "@jupyter-widgets/controls",
            "_view_module_version": "1.5.0",
            "_view_name": "IntSliderView",
            "continuous_update": true,
            "description": "w",
            "description_tooltip": null,
            "disabled": false,
            "layout": "IPY_MODEL_291fe25b46934d9f87322c0d34f6ad44",
            "max": 100,
            "min": -100,
            "orientation": "horizontal",
            "readout": true,
            "readout_format": "d",
            "step": 1,
            "style": "IPY_MODEL_f9d84a96266340e09467fedc16ecca75",
            "value": 0
          }
        },
        "41c4c7f5adc345bbaf2c3e5cefe540b0": {
          "model_module": "@jupyter-widgets/controls",
          "model_name": "IntSliderModel",
          "model_module_version": "1.5.0",
          "state": {
            "_dom_classes": [],
            "_model_module": "@jupyter-widgets/controls",
            "_model_module_version": "1.5.0",
            "_model_name": "IntSliderModel",
            "_view_count": null,
            "_view_module": "@jupyter-widgets/controls",
            "_view_module_version": "1.5.0",
            "_view_name": "IntSliderView",
            "continuous_update": true,
            "description": "b",
            "description_tooltip": null,
            "disabled": false,
            "layout": "IPY_MODEL_57c6c9e14f864b3cad304b294c14569d",
            "max": 100,
            "min": -100,
            "orientation": "horizontal",
            "readout": true,
            "readout_format": "d",
            "step": 1,
            "style": "IPY_MODEL_50015716b7894db2a9772567b70328ad",
            "value": 0
          }
        },
        "bb553b1fef4445f9b76380803bd0b801": {
          "model_module": "@jupyter-widgets/output",
          "model_name": "OutputModel",
          "model_module_version": "1.0.0",
          "state": {
            "_dom_classes": [],
            "_model_module": "@jupyter-widgets/output",
            "_model_module_version": "1.0.0",
            "_model_name": "OutputModel",
            "_view_count": null,
            "_view_module": "@jupyter-widgets/output",
            "_view_module_version": "1.0.0",
            "_view_name": "OutputView",
            "layout": "IPY_MODEL_c830d71494164201aaa53a441ab7a317",
            "msg_id": "",
            "outputs": [
              {
                "output_type": "display_data",
                "data": {
                  "text/plain": "<Figure size 640x480 with 1 Axes>",
                  "image/png": "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\n"
                },
                "metadata": {}
              }
            ]
          }
        },
        "2106949281414d84841f38f551b5b02e": {
          "model_module": "@jupyter-widgets/base",
          "model_name": "LayoutModel",
          "model_module_version": "1.2.0",
          "state": {
            "_model_module": "@jupyter-widgets/base",
            "_model_module_version": "1.2.0",
            "_model_name": "LayoutModel",
            "_view_count": null,
            "_view_module": "@jupyter-widgets/base",
            "_view_module_version": "1.2.0",
            "_view_name": "LayoutView",
            "align_content": null,
            "align_items": null,
            "align_self": null,
            "border": null,
            "bottom": null,
            "display": null,
            "flex": null,
            "flex_flow": null,
            "grid_area": null,
            "grid_auto_columns": null,
            "grid_auto_flow": null,
            "grid_auto_rows": null,
            "grid_column": null,
            "grid_gap": null,
            "grid_row": null,
            "grid_template_areas": null,
            "grid_template_columns": null,
            "grid_template_rows": null,
            "height": null,
            "justify_content": null,
            "justify_items": null,
            "left": null,
            "margin": null,
            "max_height": null,
            "max_width": null,
            "min_height": null,
            "min_width": null,
            "object_fit": null,
            "object_position": null,
            "order": null,
            "overflow": null,
            "overflow_x": null,
            "overflow_y": null,
            "padding": null,
            "right": null,
            "top": null,
            "visibility": null,
            "width": null
          }
        },
        "291fe25b46934d9f87322c0d34f6ad44": {
          "model_module": "@jupyter-widgets/base",
          "model_name": "LayoutModel",
          "model_module_version": "1.2.0",
          "state": {
            "_model_module": "@jupyter-widgets/base",
            "_model_module_version": "1.2.0",
            "_model_name": "LayoutModel",
            "_view_count": null,
            "_view_module": "@jupyter-widgets/base",
            "_view_module_version": "1.2.0",
            "_view_name": "LayoutView",
            "align_content": null,
            "align_items": null,
            "align_self": null,
            "border": null,
            "bottom": null,
            "display": null,
            "flex": null,
            "flex_flow": null,
            "grid_area": null,
            "grid_auto_columns": null,
            "grid_auto_flow": null,
            "grid_auto_rows": null,
            "grid_column": null,
            "grid_gap": null,
            "grid_row": null,
            "grid_template_areas": null,
            "grid_template_columns": null,
            "grid_template_rows": null,
            "height": null,
            "justify_content": null,
            "justify_items": null,
            "left": null,
            "margin": null,
            "max_height": null,
            "max_width": null,
            "min_height": null,
            "min_width": null,
            "object_fit": null,
            "object_position": null,
            "order": null,
            "overflow": null,
            "overflow_x": null,
            "overflow_y": null,
            "padding": null,
            "right": null,
            "top": null,
            "visibility": null,
            "width": null
          }
        },
        "f9d84a96266340e09467fedc16ecca75": {
          "model_module": "@jupyter-widgets/controls",
          "model_name": "SliderStyleModel",
          "model_module_version": "1.5.0",
          "state": {
            "_model_module": "@jupyter-widgets/controls",
            "_model_module_version": "1.5.0",
            "_model_name": "SliderStyleModel",
            "_view_count": null,
            "_view_module": "@jupyter-widgets/base",
            "_view_module_version": "1.2.0",
            "_view_name": "StyleView",
            "description_width": "",
            "handle_color": null
          }
        },
        "57c6c9e14f864b3cad304b294c14569d": {
          "model_module": "@jupyter-widgets/base",
          "model_name": "LayoutModel",
          "model_module_version": "1.2.0",
          "state": {
            "_model_module": "@jupyter-widgets/base",
            "_model_module_version": "1.2.0",
            "_model_name": "LayoutModel",
            "_view_count": null,
            "_view_module": "@jupyter-widgets/base",
            "_view_module_version": "1.2.0",
            "_view_name": "LayoutView",
            "align_content": null,
            "align_items": null,
            "align_self": null,
            "border": null,
            "bottom": null,
            "display": null,
            "flex": null,
            "flex_flow": null,
            "grid_area": null,
            "grid_auto_columns": null,
            "grid_auto_flow": null,
            "grid_auto_rows": null,
            "grid_column": null,
            "grid_gap": null,
            "grid_row": null,
            "grid_template_areas": null,
            "grid_template_columns": null,
            "grid_template_rows": null,
            "height": null,
            "justify_content": null,
            "justify_items": null,
            "left": null,
            "margin": null,
            "max_height": null,
            "max_width": null,
            "min_height": null,
            "min_width": null,
            "object_fit": null,
            "object_position": null,
            "order": null,
            "overflow": null,
            "overflow_x": null,
            "overflow_y": null,
            "padding": null,
            "right": null,
            "top": null,
            "visibility": null,
            "width": null
          }
        },
        "50015716b7894db2a9772567b70328ad": {
          "model_module": "@jupyter-widgets/controls",
          "model_name": "SliderStyleModel",
          "model_module_version": "1.5.0",
          "state": {
            "_model_module": "@jupyter-widgets/controls",
            "_model_module_version": "1.5.0",
            "_model_name": "SliderStyleModel",
            "_view_count": null,
            "_view_module": "@jupyter-widgets/base",
            "_view_module_version": "1.2.0",
            "_view_name": "StyleView",
            "description_width": "",
            "handle_color": null
          }
        },
        "c830d71494164201aaa53a441ab7a317": {
          "model_module": "@jupyter-widgets/base",
          "model_name": "LayoutModel",
          "model_module_version": "1.2.0",
          "state": {
            "_model_module": "@jupyter-widgets/base",
            "_model_module_version": "1.2.0",
            "_model_name": "LayoutModel",
            "_view_count": null,
            "_view_module": "@jupyter-widgets/base",
            "_view_module_version": "1.2.0",
            "_view_name": "LayoutView",
            "align_content": null,
            "align_items": null,
            "align_self": null,
            "border": null,
            "bottom": null,
            "display": null,
            "flex": null,
            "flex_flow": null,
            "grid_area": null,
            "grid_auto_columns": null,
            "grid_auto_flow": null,
            "grid_auto_rows": null,
            "grid_column": null,
            "grid_gap": null,
            "grid_row": null,
            "grid_template_areas": null,
            "grid_template_columns": null,
            "grid_template_rows": null,
            "height": null,
            "justify_content": null,
            "justify_items": null,
            "left": null,
            "margin": null,
            "max_height": null,
            "max_width": null,
            "min_height": null,
            "min_width": null,
            "object_fit": null,
            "object_position": null,
            "order": null,
            "overflow": null,
            "overflow_x": null,
            "overflow_y": null,
            "padding": null,
            "right": null,
            "top": null,
            "visibility": null,
            "width": null
          }
        }
      }
    }
  },
  "cells": [
    {
      "cell_type": "markdown",
      "metadata": {
        "id": "view-in-github",
        "colab_type": "text"
      },
      "source": [
        "<a href=\"https://colab.research.google.com/github/gogopinpin/Basic-e-commerce-membership-functions/blob/main/y%20%3D%20w*x%20%2B%20b.ipynb\" target=\"_parent\"><img src=\"https://colab.research.google.com/assets/colab-badge.svg\" alt=\"Open In Colab\"/></a>"
      ]
    },
    {
      "cell_type": "code",
      "source": [
        "import pandas as pd\n",
        "\n",
        "url = \"https://raw.githubusercontent.com/GrandmaCan/ML/main/Resgression/Salary_Data.csv\"\n",
        "data = pd.read_csv(url)\n",
        "data\n",
        "# y = w*x + b\n",
        "x = data[\"YearsExperience\"]\n",
        "y = data[\"Salary\"]"
      ],
      "metadata": {
        "colab": {
          "base_uri": "https://localhost:8080/"
        },
        "id": "72K_wf5B6Lqd",
        "outputId": "7fd6159c-559e-434b-c078-c102f91a9581"
      },
      "execution_count": 8,
      "outputs": [
        {
          "output_type": "execute_result",
          "data": {
            "text/plain": [
              "0      36.2\n",
              "1      36.6\n",
              "2      42.8\n",
              "3      39.3\n",
              "4      46.2\n",
              "5      37.7\n",
              "6      43.5\n",
              "7      39.8\n",
              "8      56.6\n",
              "9      60.1\n",
              "10     54.4\n",
              "11     64.4\n",
              "12     57.1\n",
              "13     63.2\n",
              "14     55.7\n",
              "15     56.9\n",
              "16     57.0\n",
              "17     61.1\n",
              "18     67.9\n",
              "19     66.0\n",
              "20     83.0\n",
              "21     81.3\n",
              "22     93.9\n",
              "23     91.7\n",
              "24     98.2\n",
              "25    101.3\n",
              "26    113.8\n",
              "27    109.4\n",
              "28    105.5\n",
              "29    116.9\n",
              "30    112.6\n",
              "31    122.3\n",
              "32    121.8\n",
              "Name: Salary, dtype: float64"
            ]
          },
          "metadata": {},
          "execution_count": 8
        }
      ]
    },
    {
      "cell_type": "code",
      "source": [
        "!pip install wget\n",
        "import wget\n",
        "\n",
        "wget.download(\"https://github.com/GrandmaCan/ML/raw/main/Resgression/ChineseFont.ttf\")"
      ],
      "metadata": {
        "colab": {
          "base_uri": "https://localhost:8080/",
          "height": 53
        },
        "id": "Z2F5j28x7Bns",
        "outputId": "7cb6b6cc-53d8-4fe1-da02-a70ea5ab88ca"
      },
      "execution_count": 11,
      "outputs": [
        {
          "output_type": "stream",
          "name": "stdout",
          "text": [
            "Requirement already satisfied: wget in /usr/local/lib/python3.10/dist-packages (3.2)\n"
          ]
        },
        {
          "output_type": "execute_result",
          "data": {
            "text/plain": [
              "'ChineseFont (1).ttf'"
            ],
            "application/vnd.google.colaboratory.intrinsic+json": {
              "type": "string"
            }
          },
          "metadata": {},
          "execution_count": 11
        }
      ]
    },
    {
      "cell_type": "code",
      "source": [
        "import matplotlib.pyplot as plt\n",
        "import matplotlib as mpl\n",
        "from matplotlib.font_manager import fontManager\n",
        "\n",
        "fontManager.addfont(\"ChineseFont.ttf\")\n",
        "mpl.rc('font', family=\"ChineseFont\")\n",
        "\n",
        "plt.scatter(x, y, marker=\"x\", color=\"red\")\n",
        "plt.title(\"年資-薪水\")\n",
        "plt.xlabel(\"年資\")\n",
        "plt.ylabel(\"月薪(千)\")\n",
        "plt.show()"
      ],
      "metadata": {
        "colab": {
          "base_uri": "https://localhost:8080/",
          "height": 472
        },
        "id": "p488fJMn7TQ7",
        "outputId": "87cb402e-86a7-47bd-eec2-9906cc8b5aed"
      },
      "execution_count": 13,
      "outputs": [
        {
          "output_type": "display_data",
          "data": {
            "text/plain": [
              "<Figure size 640x480 with 1 Axes>"
            ],
            "image/png": "[encoded data removed]"
          },
          "metadata": {}
        }
      ]
    },
    {
      "cell_type": "code",
      "source": [
        "def plot_pred(w, b):\n",
        "  y_pred = x*w + b\n",
        "  plt.plot(x, y_pred, color=\"blue\", label=\"預測線\")\n",
        "  plt.scatter(x, y, marker=\"x\", color=\"red\", label=\"真實數據\")\n",
        "  plt.title(\"年資-薪水\")\n",
        "  plt.xlabel(\"年資\")\n",
        "  plt.ylabel(\"月薪(千)\")\n",
        "  plt.xlim([0, 12])\n",
        "  plt.ylim([-60, 140])\n",
        "  plt.legend()\n",
        "  plt.show()\n",
        "\n",
        "plot_pred(-5, -30)"
      ],
      "metadata": {
        "colab": {
          "base_uri": "https://localhost:8080/",
          "height": 472
        },
        "id": "Rd1mBybS7knE",
        "outputId": "790eb96a-2f53-4e33-e82f-8f03c1ab736b"
      },
      "execution_count": 14,
      "outputs": [
        {
          "output_type": "display_data",
          "data": {
            "text/plain": [
              "<Figure size 640x480 with 1 Axes>"
            ],
            "image/png": "[encoded data removed]"
          },
          "metadata": {}
        }
      ]
    },
    {
      "cell_type": "code",
      "source": [
        "from ipywidgets import interact\n",
        "\n",
        "interact(plot_pred, w=(-100, 100, 1), b=(-100, 100, 1))"
      ],
      "metadata": {
        "colab": {
          "base_uri": "https://localhost:8080/",
          "height": 553,
          "referenced_widgets": [
            "b1c5a5c3c0994d779b880744f757ea03",
            "4e87cf911bca4fad8ada27a189e71044",
            "41c4c7f5adc345bbaf2c3e5cefe540b0",
            "bb553b1fef4445f9b76380803bd0b801",
            "2106949281414d84841f38f551b5b02e",
            "291fe25b46934d9f87322c0d34f6ad44",
            "f9d84a96266340e09467fedc16ecca75",
            "57c6c9e14f864b3cad304b294c14569d",
            "50015716b7894db2a9772567b70328ad",
            "c830d71494164201aaa53a441ab7a317"
          ]
        },
        "id": "811YzVMh7tmD",
        "outputId": "e1570b35-fcb1-44a4-b9c4-322088d6b14b"
      },
      "execution_count": 17,
      "outputs": [
        {
          "output_type": "display_data",
          "data": {
            "text/plain": [
              "interactive(children=(IntSlider(value=0, description='w', min=-100), IntSlider(value=0, description='b', min=-…"
            ],
            "application/vnd.jupyter.widget-view+json": {
              "version_major": 2,
              "version_minor": 0,
              "model_id": "b1c5a5c3c0994d779b880744f757ea03"
            }
          },
          "metadata": {}
        },
        {
          "output_type": "execute_result",
          "data": {
            "text/plain": [
              "<function __main__.plot_pred(w, b)>"
            ]
          },
          "metadata": {},
          "execution_count": 17
        }
      ]
    }
  ]
}